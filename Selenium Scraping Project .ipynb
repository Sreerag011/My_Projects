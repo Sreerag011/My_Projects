{
 "cells": [
  {
   "cell_type": "code",
   "execution_count": 165,
   "id": "a7f93c6b-c60b-4b24-a13e-6d1387698edb",
   "metadata": {},
   "outputs": [],
   "source": [
    "from selenium import webdriver\n",
    "from selenium.webdriver.common.keys import Keys\n",
    "from selenium.webdriver.common.by import By\n",
    "import time"
   ]
  },
  {
   "cell_type": "code",
   "execution_count": 166,
   "id": "057ad108-d58c-4370-b231-9457bca0c684",
   "metadata": {},
   "outputs": [],
   "source": [
    "driver = webdriver.Chrome()"
   ]
  },
  {
   "cell_type": "code",
   "execution_count": 167,
   "id": "05b6d642-d3b2-4d37-8b29-bbf9aeae90ae",
   "metadata": {},
   "outputs": [
    {
     "name": "stdout",
     "output_type": "stream",
     "text": [
      "25 items found\n",
      "27 items found\n",
      "27 items found\n",
      "27 items found\n",
      "22 items found\n",
      "22 items found\n",
      "22 items found\n",
      "22 items found\n",
      "22 items found\n",
      "22 items found\n",
      "22 items found\n",
      "22 items found\n",
      "22 items found\n",
      "22 items found\n",
      "22 items found\n",
      "22 items found\n",
      "22 items found\n",
      "19 items found\n",
      "17 items found\n"
     ]
    }
   ],
   "source": [
    "#Extracting Information abou each product as a HTML page\n",
    "\n",
    "query = \"Car Washer\"\n",
    "file =0\n",
    "for i in range(1,20):\n",
    "    driver.get(f'https://www.amazon.in/s?k={query}&page={i}&crid=2329DE5DWIEET&sprefix=car+washer%2Caps%2C260&ref=nb_sb_noss_1')\n",
    "    elems = driver.find_elements(By.CLASS_NAME,\"puis-card-container\")\n",
    "    print(f'{len(elems)} items found')\n",
    "    for elem in elems: \n",
    "        d = elem.get_attribute('outerHTML')\n",
    "        with open(f'C:/Users/user/OneDrive/Documents/Data/{query}_{file}','w',encoding ='UTF-8') as f:\n",
    "            f.write(d)\n",
    "            file+=1\n",
    "    time.sleep(2)\n",
    "driver.close()\n"
   ]
  },
  {
   "cell_type": "code",
   "execution_count": 3,
   "id": "fb5e0576-a602-4d24-bfac-03bedd4e8229",
   "metadata": {},
   "outputs": [],
   "source": [
    "#extracting required information as csv or excel files, from the extracted HTML files\n",
    "from bs4 import BeautifulSoup\n",
    "import os\n",
    "import pandas as pd"
   ]
  },
  {
   "cell_type": "code",
   "execution_count": 30,
   "id": "20eacf69-16d7-4dd0-9be5-76ca10a3f780",
   "metadata": {},
   "outputs": [],
   "source": [
    "d = {'title' : [],'Price' : [],'Rating' : [],'Number_of_ratings' : [],'Bought_in_past_month' : [], 'Link' : []}\n",
    "file =0\n",
    "try:\n",
    "    for file in os.listdir('C:/Users/user/OneDrive/Documents/Data'):\n",
    "        with open(f\"C:/Users/user/OneDrive/Documents/Data/{file}\",errors='ignore') as f:\n",
    "            html_doc = f.read()\n",
    "            file=+1\n",
    "        soup=BeautifulSoup(html_doc,'html.parser')\n",
    "        t=soup.find('h2')\n",
    "        title = t.get_text()\n",
    "    \n",
    "        l = t.find('a')\n",
    "        Link = 'http://amazon.in/' + l['href']\n",
    "    \n",
    "        p = soup.find('span',attrs = {'class' :'a-price-whole'})\n",
    "        Price = p.get_text()\n",
    "\n",
    "        #r = soup.find('i')\n",
    "        #Rating = r.get_text()\n",
    "\n",
    "        rb = soup.find('div', attrs = {'data-cy': 'reviews-block'})\n",
    "        if (pd.isna(rb) ):    \n",
    "            Number_of_ratings = 'NA'\n",
    "            Rating = 'NA'\n",
    "        else : \n",
    "             Number_of_ratings = rb.find_all('span')[3].get_text()\n",
    "             Rating = rb.find('i').get_text()\n",
    "#To find the number of Items bought in past month from review block rb\n",
    "        if (pd.isna(rb) ):    \n",
    "            Bought_in_past_month = 'NA'\n",
    "        else : \n",
    "            Place_Holder = rb.find('span',attrs = {'class':\"a-size-base a-color-secondary\"})\n",
    "            if (pd.isna(Place_Holder)):\n",
    "                Bought_in_past_month = 'NA'\n",
    "            else :\n",
    "                Bought_in_past_month = Place_Holder.get_text()\n",
    "        \n",
    "        d['title'].append(title)\n",
    "        d['Link'].append(Link)\n",
    "        d['Price'].append(Price)\n",
    "        d['Rating'].append(Rating)\n",
    "        d['Number_of_ratings'].append(Number_of_ratings)\n",
    "        d['Bought_in_past_month'].append(Bought_in_past_month)\n",
    "        \n",
    "except Exception as e:\n",
    "    print(e)\n",
    "\n",
    "df = pd.DataFrame(data=d)\n",
    "df.to_csv(r'C:/Users/user/OneDrive/Documents/Car_Washer_Data.csv',encoding = 'UTF-8')"
   ]
  },
  {
   "cell_type": "code",
   "execution_count": null,
   "id": "5c32ffa6-93e4-4b6c-83aa-cb001807a412",
   "metadata": {},
   "outputs": [],
   "source": []
  },
  {
   "cell_type": "code",
   "execution_count": null,
   "id": "5a072ffc-2500-4ad9-bcfb-64f08ea75875",
   "metadata": {},
   "outputs": [],
   "source": []
  }
 ],
 "metadata": {
  "kernelspec": {
   "display_name": "Python 3 (ipykernel)",
   "language": "python",
   "name": "python3"
  },
  "language_info": {
   "codemirror_mode": {
    "name": "ipython",
    "version": 3
   },
   "file_extension": ".py",
   "mimetype": "text/x-python",
   "name": "python",
   "nbconvert_exporter": "python",
   "pygments_lexer": "ipython3",
   "version": "3.12.4"
  }
 },
 "nbformat": 4,
 "nbformat_minor": 5
}
